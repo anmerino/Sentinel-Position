{
 "cells": [
  {
   "cell_type": "markdown",
   "metadata": {},
   "source": [
    "# Employing spherical trigonometry or geodesy to accurately determine   \n",
    "# the distance and bearing between two positions of the Sentinel 2A satellite."
   ]
  },
  {
   "cell_type": "markdown",
   "metadata": {},
   "source": [
    "Within this notebook, we will meticulously apply the principles of spherical trigonometry to accurately calculate   \n",
    "the distance and cardinal direction between two specified coordinates representing the Sentinel 2A satellite's position.   \n",
    "This rigorous approach will enable us to precisely determine the satellite's spatial displacement and orientation."
   ]
  },
  {
   "cell_type": "markdown",
   "metadata": {},
   "source": [
    "### Install Skyfield to get Geographical position in real time."
   ]
  },
  {
   "cell_type": "code",
   "execution_count": 1,
   "metadata": {},
   "outputs": [
    {
     "name": "stdout",
     "output_type": "stream",
     "text": [
      "Requirement already satisfied: skyfield in c:\\users\\thepa\\anaconda3\\lib\\site-packages (1.49)\n",
      "Requirement already satisfied: certifi>=2017.4.17 in c:\\users\\thepa\\anaconda3\\lib\\site-packages (from skyfield) (2024.7.4)\n",
      "Requirement already satisfied: jplephem>=2.13 in c:\\users\\thepa\\anaconda3\\lib\\site-packages (from skyfield) (2.22)\n",
      "Requirement already satisfied: numpy in c:\\users\\thepa\\anaconda3\\lib\\site-packages (from skyfield) (1.26.4)\n",
      "Requirement already satisfied: sgp4>=2.2 in c:\\users\\thepa\\anaconda3\\lib\\site-packages (from skyfield) (2.23)\n"
     ]
    }
   ],
   "source": [
    "!pip install skyfield"
   ]
  },
  {
   "cell_type": "code",
   "execution_count": 2,
   "metadata": {},
   "outputs": [],
   "source": [
    "from skyfield.api import load, EarthSatellite, wgs84, utc\n",
    "from datetime import datetime, timedelta\n",
    "import math"
   ]
  },
  {
   "attachments": {
    "image.png": {
     "image/png": "[encoded data removed]"
    }
   },
   "cell_type": "markdown",
   "metadata": {},
   "source": [
    "### Mathematical formula  \n",
    "For two points with coordinates (𝑙𝑎𝑡1,𝑙𝑜𝑛1) and (𝑙𝑎𝑡2,𝑙𝑜𝑛2) in decimal degrees,  \n",
    "the formula to calculate the bearing (direction in degrees) from the first point to the second is:  \n",
    "\\\n",
    "![image.png](attachment:image.png)"
   ]
  },
  {
   "cell_type": "markdown",
   "metadata": {},
   "source": [
    "Where:  \n",
    "\n",
    "θ is the bearing (in radians).  \n",
    "ϕ1 and 𝜙2 are the latitudes of the points in radians.  \n",
    "λ1 and 𝜆2 are the longitudes of the points in radians.  \n",
    "Δ𝜆=𝜆2−𝜆1 is the difference in longitudes in radians.  "
   ]
  },
  {
   "cell_type": "markdown",
   "metadata": {},
   "source": [
    "Finally, to convert the angle to degrees and ensure that the result is in the range of 0° to 360°:"
   ]
  },
  {
   "attachments": {
    "image.png": {
     "image/png": "[encoded data removed]"
    }
   },
   "cell_type": "markdown",
   "metadata": {},
   "source": [
    "![image.png](attachment:image.png)"
   ]
  },
  {
   "cell_type": "markdown",
   "metadata": {},
   "source": [
    "##### Function to calculate the direction between two geographic coordinates"
   ]
  },
  {
   "cell_type": "code",
   "execution_count": 3,
   "metadata": {},
   "outputs": [],
   "source": [
    "def get_direction(lat1, lon1, lat2, lon2):\n",
    "    lat1_rad = math.radians(lat1)\n",
    "    lon1_rad = math.radians(lon1)\n",
    "    lat2_rad = math.radians(lat2)\n",
    "    lon2_rad = math.radians(lon2)\n",
    "\n",
    "    delta_lon = lon2_rad - lon1_rad\n",
    "\n",
    "    x = math.sin(delta_lon) * math.cos(lat2_rad)\n",
    "    y = math.cos(lat1_rad) * math.sin(lat2_rad) - (math.sin(lat1_rad) * math.cos(lat2_rad) * math.cos(delta_lon))\n",
    "\n",
    "    angle_radians = math.atan2(x, y)\n",
    "    angle_degrees  = (math.degrees(angle_radians) + 360) % 360\n",
    "\n",
    "    return angle_degrees "
   ]
  },
  {
   "cell_type": "markdown",
   "metadata": {},
   "source": [
    "##### TLE of Sentinel-2A satellite"
   ]
  },
  {
   "cell_type": "markdown",
   "metadata": {},
   "source": [
    "I obtained the TLE information for satellite Sentinel 2A from https://www.n2yo.com/satellite/?s=40697.  \n",
    "This website is a satellite tracking service that provides TLE data and related information for various satellites.  \n",
    "By accessing this specific URL, you retrieved the current TLE for satellite 40697, which can be used to determine its orbital characteristics, predict its position, and calculate future passes. Such services typically update their TLE data regularly from authoritative sources to maintain accuracy in satellite tracking and predictions."
   ]
  },
  {
   "cell_type": "code",
   "execution_count": 4,
   "metadata": {},
   "outputs": [],
   "source": [
    "tle_line1 = '1 40697U 15028A   24263.15857056  .00000459  00000-0  19166-3 0  9990'\n",
    "tle_line2 = '2 40697  98.5710 336.0659 0001038  93.3847 266.7455 14.30812527482783'"
   ]
  },
  {
   "cell_type": "markdown",
   "metadata": {},
   "source": [
    "##### Create the Sentinel-2A satellite using TLE data"
   ]
  },
  {
   "cell_type": "code",
   "execution_count": 5,
   "metadata": {},
   "outputs": [],
   "source": [
    "sentinel2a = EarthSatellite(tle_line1, tle_line2, 'Sentinel-2A', load.timescale())"
   ]
  },
  {
   "cell_type": "markdown",
   "metadata": {},
   "source": [
    "##### Load time table"
   ]
  },
  {
   "cell_type": "code",
   "execution_count": 6,
   "metadata": {},
   "outputs": [],
   "source": [
    "ts = load.timescale()"
   ]
  },
  {
   "cell_type": "code",
   "execution_count": 7,
   "metadata": {},
   "outputs": [],
   "source": [
    "# Define the current time\n",
    "t1 = ts.now()"
   ]
  },
  {
   "cell_type": "code",
   "execution_count": 8,
   "metadata": {},
   "outputs": [],
   "source": [
    "# Define a future time (e.g. 60 seconds later)\n",
    "t2 = ts.utc((datetime.utcnow() + timedelta(seconds=60)).replace(tzinfo=utc))"
   ]
  },
  {
   "cell_type": "markdown",
   "metadata": {},
   "source": [
    "##### Get the satellite position at time t1"
   ]
  },
  {
   "cell_type": "code",
   "execution_count": 9,
   "metadata": {},
   "outputs": [],
   "source": [
    "geocentric1 = sentinel2a.at(t1)\n",
    "subpoint1 = wgs84.subpoint(geocentric1)\n",
    "lat1 = subpoint1.latitude.degrees\n",
    "lon1 = subpoint1.longitude.degrees"
   ]
  },
  {
   "cell_type": "markdown",
   "metadata": {},
   "source": [
    "##### Get the satellite position at time t2"
   ]
  },
  {
   "cell_type": "code",
   "execution_count": 10,
   "metadata": {},
   "outputs": [],
   "source": [
    "geocentric2 = sentinel2a.at(t2)\n",
    "subpoint2 = wgs84.subpoint(geocentric2)\n",
    "lat2 = subpoint2.latitude.degrees\n",
    "lon2 = subpoint2.longitude.degrees"
   ]
  },
  {
   "cell_type": "markdown",
   "metadata": {},
   "source": [
    "### Function to determine the cardinal direction from degrees"
   ]
  },
  {
   "cell_type": "code",
   "execution_count": 11,
   "metadata": {},
   "outputs": [
    {
     "name": "stdout",
     "output_type": "stream",
     "text": [
      "Starting position: Latitude 9.583948615698084, Longitude 117.186626289487\n",
      "Position 60 seconds later: Latitude 13.139744899234515, Longitude 116.38153640204476\n",
      "Satellire movement direction: 347.56166905496974 degrees\n",
      "Cardinal direction: Norte\n"
     ]
    }
   ],
   "source": [
    "def get_cardinal_direction(direccion_grados):\n",
    "    if (direccion_grados >= 337.5 or direccion_grados < 22.5):\n",
    "        return \"Norte\"\n",
    "    elif (22.5 <= direccion_grados < 67.5):\n",
    "        return \"Noreste\"\n",
    "    elif (67.5 <= direccion_grados < 112.5):\n",
    "        return \"Este\"\n",
    "    elif (112.5 <= direccion_grados < 157.5):\n",
    "        return \"Sureste\"\n",
    "    elif (157.5 <= direccion_grados < 202.5):\n",
    "        return \"Sur\"\n",
    "    elif (202.5 <= direccion_grados < 247.5):\n",
    "        return \"Suroeste\"\n",
    "    elif (247.5 <= direccion_grados < 292.5):\n",
    "        return \"Oeste\"\n",
    "    elif (292.5 <= direccion_grados < 337.5):\n",
    "        return \"Noroeste\"\n",
    "\n",
    "# Calculate the direction of satellite movement\n",
    "movement_directioon = get_direction(lat1, lon1, lat2, lon2)\n",
    "\n",
    "# Get the cardinal direction\n",
    "cardinal_direction = get_cardinal_direction(movement_directioon)\n",
    "\n",
    "print(f\"Starting position: Latitude {lat1}, Longitude {lon1}\")\n",
    "print(f\"Position 60 seconds later: Latitude {lat2}, Longitude {lon2}\")\n",
    "print(f\"Satellire movement direction: {movement_directioon} degrees\")\n",
    "print(f\"Cardinal direction: {cardinal_direction}\")"
   ]
  },
  {
   "cell_type": "code",
   "execution_count": 12,
   "metadata": {},
   "outputs": [
    {
     "name": "stdout",
     "output_type": "stream",
     "text": [
      "Requirement already satisfied: folium in c:\\users\\thepa\\anaconda3\\lib\\site-packages (0.17.0)\n",
      "Requirement already satisfied: branca>=0.6.0 in c:\\users\\thepa\\anaconda3\\lib\\site-packages (from folium) (0.7.2)\n",
      "Requirement already satisfied: jinja2>=2.9 in c:\\users\\thepa\\anaconda3\\lib\\site-packages (from folium) (3.1.3)\n",
      "Requirement already satisfied: numpy in c:\\users\\thepa\\anaconda3\\lib\\site-packages (from folium) (1.26.4)\n",
      "Requirement already satisfied: requests in c:\\users\\thepa\\anaconda3\\lib\\site-packages (from folium) (2.31.0)\n",
      "Requirement already satisfied: xyzservices in c:\\users\\thepa\\anaconda3\\lib\\site-packages (from folium) (2022.9.0)\n",
      "Requirement already satisfied: MarkupSafe>=2.0 in c:\\users\\thepa\\anaconda3\\lib\\site-packages (from jinja2>=2.9->folium) (2.1.3)\n",
      "Requirement already satisfied: charset-normalizer<4,>=2 in c:\\users\\thepa\\anaconda3\\lib\\site-packages (from requests->folium) (2.0.4)\n",
      "Requirement already satisfied: idna<4,>=2.5 in c:\\users\\thepa\\anaconda3\\lib\\site-packages (from requests->folium) (3.4)\n",
      "Requirement already satisfied: urllib3<3,>=1.21.1 in c:\\users\\thepa\\anaconda3\\lib\\site-packages (from requests->folium) (2.0.7)\n",
      "Requirement already satisfied: certifi>=2017.4.17 in c:\\users\\thepa\\anaconda3\\lib\\site-packages (from requests->folium) (2024.7.4)\n"
     ]
    }
   ],
   "source": [
    "# Install folium to show satellite position on interactive map\n",
    "!pip install folium"
   ]
  },
  {
   "cell_type": "code",
   "execution_count": 13,
   "metadata": {},
   "outputs": [
    {
     "data": {
      "text/html": [
       "<div style=\"width:100%;\"><div style=\"position:relative;width:100%;height:0;padding-bottom:60%;\"><span style=\"color:#565656\">Make this Notebook Trusted to load map: File -> Trust Notebook</span><iframe srcdoc=\"&lt;!DOCTYPE html&gt;\n",
       "&lt;html&gt;\n",
       "&lt;head&gt;\n",
       "    \n",
       "    &lt;meta http-equiv=&quot;content-type&quot; content=&quot;text/html; charset=UTF-8&quot; /&gt;\n",
       "    \n",
       "        &lt;script&gt;\n",
       "            L_NO_TOUCH = false;\n",
       "            L_DISABLE_3D = false;\n",
       "        &lt;/script&gt;\n",
       "    \n",
       "    &lt;style&gt;html, body {width: 100%;height: 100%;margin: 0;padding: 0;}&lt;/style&gt;\n",
       "    &lt;style&gt;#map {position:absolute;top:0;bottom:0;right:0;left:0;}&lt;/style&gt;\n",
       "    &lt;script src=&quot;https://cdn.jsdelivr.net/npm/leaflet@1.9.3/dist/leaflet.js&quot;&gt;&lt;/script&gt;\n",
       "    &lt;script src=&quot;https://code.jquery.com/jquery-3.7.1.min.js&quot;&gt;&lt;/script&gt;\n",
       "    &lt;script src=&quot;https://cdn.jsdelivr.net/npm/bootstrap@5.2.2/dist/js/bootstrap.bundle.min.js&quot;&gt;&lt;/script&gt;\n",
       "    &lt;script src=&quot;https://cdnjs.cloudflare.com/ajax/libs/Leaflet.awesome-markers/2.0.2/leaflet.awesome-markers.js&quot;&gt;&lt;/script&gt;\n",
       "    &lt;link rel=&quot;stylesheet&quot; href=&quot;https://cdn.jsdelivr.net/npm/leaflet@1.9.3/dist/leaflet.css&quot;/&gt;\n",
       "    &lt;link rel=&quot;stylesheet&quot; href=&quot;https://cdn.jsdelivr.net/npm/bootstrap@5.2.2/dist/css/bootstrap.min.css&quot;/&gt;\n",
       "    &lt;link rel=&quot;stylesheet&quot; href=&quot;https://netdna.bootstrapcdn.com/bootstrap/3.0.0/css/bootstrap-glyphicons.css&quot;/&gt;\n",
       "    &lt;link rel=&quot;stylesheet&quot; href=&quot;https://cdn.jsdelivr.net/npm/@fortawesome/fontawesome-free@6.2.0/css/all.min.css&quot;/&gt;\n",
       "    &lt;link rel=&quot;stylesheet&quot; href=&quot;https://cdnjs.cloudflare.com/ajax/libs/Leaflet.awesome-markers/2.0.2/leaflet.awesome-markers.css&quot;/&gt;\n",
       "    &lt;link rel=&quot;stylesheet&quot; href=&quot;https://cdn.jsdelivr.net/gh/python-visualization/folium/folium/templates/leaflet.awesome.rotate.min.css&quot;/&gt;\n",
       "    \n",
       "            &lt;meta name=&quot;viewport&quot; content=&quot;width=device-width,\n",
       "                initial-scale=1.0, maximum-scale=1.0, user-scalable=no&quot; /&gt;\n",
       "            &lt;style&gt;\n",
       "                #map_a102fe553414bacdcc461a817d575768 {\n",
       "                    position: relative;\n",
       "                    width: 100.0%;\n",
       "                    height: 100.0%;\n",
       "                    left: 0.0%;\n",
       "                    top: 0.0%;\n",
       "                }\n",
       "                .leaflet-container { font-size: 1rem; }\n",
       "            &lt;/style&gt;\n",
       "        \n",
       "&lt;/head&gt;\n",
       "&lt;body&gt;\n",
       "    \n",
       "    \n",
       "            &lt;div class=&quot;folium-map&quot; id=&quot;map_a102fe553414bacdcc461a817d575768&quot; &gt;&lt;/div&gt;\n",
       "        \n",
       "&lt;/body&gt;\n",
       "&lt;script&gt;\n",
       "    \n",
       "    \n",
       "            var map_a102fe553414bacdcc461a817d575768 = L.map(\n",
       "                &quot;map_a102fe553414bacdcc461a817d575768&quot;,\n",
       "                {\n",
       "                    center: [9.583948615698084, 117.186626289487],\n",
       "                    crs: L.CRS.EPSG3857,\n",
       "                    zoom: 4,\n",
       "                    zoomControl: true,\n",
       "                    preferCanvas: false,\n",
       "                }\n",
       "            );\n",
       "\n",
       "            \n",
       "\n",
       "        \n",
       "    \n",
       "            var tile_layer_828a5952c6ebadd351f8742e8c1f12d9 = L.tileLayer(\n",
       "                &quot;https://tile.openstreetmap.org/{z}/{x}/{y}.png&quot;,\n",
       "                {&quot;attribution&quot;: &quot;\\u0026copy; \\u003ca href=\\&quot;https://www.openstreetmap.org/copyright\\&quot;\\u003eOpenStreetMap\\u003c/a\\u003e contributors&quot;, &quot;detectRetina&quot;: false, &quot;maxNativeZoom&quot;: 19, &quot;maxZoom&quot;: 19, &quot;minZoom&quot;: 0, &quot;noWrap&quot;: false, &quot;opacity&quot;: 1, &quot;subdomains&quot;: &quot;abc&quot;, &quot;tms&quot;: false}\n",
       "            );\n",
       "        \n",
       "    \n",
       "            tile_layer_828a5952c6ebadd351f8742e8c1f12d9.addTo(map_a102fe553414bacdcc461a817d575768);\n",
       "        \n",
       "    \n",
       "            var marker_9c17eea84afe2b94b427b76b393085c0 = L.marker(\n",
       "                [9.583948615698084, 117.186626289487],\n",
       "                {}\n",
       "            ).addTo(map_a102fe553414bacdcc461a817d575768);\n",
       "        \n",
       "    \n",
       "        var popup_b24122ab241cfb18e2b0cd2327e0b8d2 = L.popup({&quot;maxWidth&quot;: &quot;100%&quot;});\n",
       "\n",
       "        \n",
       "            \n",
       "                var html_842772be2d60403024d28db4273df2a6 = $(`&lt;div id=&quot;html_842772be2d60403024d28db4273df2a6&quot; style=&quot;width: 100.0%; height: 100.0%;&quot;&gt;Starting position: Latitude 9.583948615698084, Longitude 117.186626289487&lt;/div&gt;`)[0];\n",
       "                popup_b24122ab241cfb18e2b0cd2327e0b8d2.setContent(html_842772be2d60403024d28db4273df2a6);\n",
       "            \n",
       "        \n",
       "\n",
       "        marker_9c17eea84afe2b94b427b76b393085c0.bindPopup(popup_b24122ab241cfb18e2b0cd2327e0b8d2)\n",
       "        ;\n",
       "\n",
       "        \n",
       "    \n",
       "    \n",
       "            var poly_line_23534bbb3cca79df2055ebcca79f49b2 = L.polyline(\n",
       "                [[9.583948615698084, 117.186626289487], [13.139744899234515, 116.38153640204476]],\n",
       "                {&quot;bubblingMouseEvents&quot;: true, &quot;color&quot;: &quot;blue&quot;, &quot;dashArray&quot;: null, &quot;dashOffset&quot;: null, &quot;fill&quot;: false, &quot;fillColor&quot;: &quot;blue&quot;, &quot;fillOpacity&quot;: 0.2, &quot;fillRule&quot;: &quot;evenodd&quot;, &quot;lineCap&quot;: &quot;round&quot;, &quot;lineJoin&quot;: &quot;round&quot;, &quot;noClip&quot;: false, &quot;opacity&quot;: 1, &quot;smoothFactor&quot;: 1.0, &quot;stroke&quot;: true, &quot;weight&quot;: 2.5}\n",
       "            ).addTo(map_a102fe553414bacdcc461a817d575768);\n",
       "        \n",
       "    \n",
       "            var marker_a1d13090a782900f9f372d981473bfc2 = L.marker(\n",
       "                [13.139744899234515, 116.38153640204476],\n",
       "                {}\n",
       "            ).addTo(map_a102fe553414bacdcc461a817d575768);\n",
       "        \n",
       "    \n",
       "        var popup_180a8bcfbd8aaeaac1efaedeeb048312 = L.popup({&quot;maxWidth&quot;: &quot;100%&quot;});\n",
       "\n",
       "        \n",
       "            \n",
       "                var html_7530f4a395f7ff6454f4ae95a0c670b2 = $(`&lt;div id=&quot;html_7530f4a395f7ff6454f4ae95a0c670b2&quot; style=&quot;width: 100.0%; height: 100.0%;&quot;&gt;Future position: Latitude 13.139744899234515, Longitude 116.38153640204476&lt;/div&gt;`)[0];\n",
       "                popup_180a8bcfbd8aaeaac1efaedeeb048312.setContent(html_7530f4a395f7ff6454f4ae95a0c670b2);\n",
       "            \n",
       "        \n",
       "\n",
       "        marker_a1d13090a782900f9f372d981473bfc2.bindPopup(popup_180a8bcfbd8aaeaac1efaedeeb048312)\n",
       "        ;\n",
       "\n",
       "        \n",
       "    \n",
       "&lt;/script&gt;\n",
       "&lt;/html&gt;\" style=\"position:absolute;width:100%;height:100%;left:0;top:0;border:none !important;\" allowfullscreen webkitallowfullscreen mozallowfullscreen></iframe></div></div>"
      ],
      "text/plain": [
       "<folium.folium.Map at 0x11e872f1810>"
      ]
     },
     "execution_count": 13,
     "metadata": {},
     "output_type": "execute_result"
    }
   ],
   "source": [
    "import folium\n",
    "# Create the map centered on the first satellite position\n",
    "mapa = folium.Map(location=[lat1, lon1], zoom_start=4)\n",
    "\n",
    "# Add a marker for the initial satellite position\n",
    "folium.Marker([lat1, lon1], popup=f\"Starting position: Latitude {lat1}, Longitude {lon1}\").add_to(mapa)\n",
    "\n",
    "# Add an arrow indicating the direction of movement\n",
    "folium.PolyLine(locations=[[lat1, lon1], [lat2, lon2]], color='blue', weight=2.5, opacity=1).add_to(mapa)\n",
    "\n",
    "# Add a marker for the future satellite position (after 60 seconds)\n",
    "folium.Marker([lat2, lon2], popup=f\"Future position: Latitude {lat2}, Longitude {lon2}\").add_to(mapa)\n",
    "\n",
    "# Show map\n",
    "mapa"
   ]
  }
 ],
 "metadata": {
  "kernelspec": {
   "display_name": "base",
   "language": "python",
   "name": "python3"
  },
  "language_info": {
   "codemirror_mode": {
    "name": "ipython",
    "version": 3
   },
   "file_extension": ".py",
   "mimetype": "text/x-python",
   "name": "python",
   "nbconvert_exporter": "python",
   "pygments_lexer": "ipython3",
   "version": "3.11.7"
  }
 },
 "nbformat": 4,
 "nbformat_minor": 2
}
